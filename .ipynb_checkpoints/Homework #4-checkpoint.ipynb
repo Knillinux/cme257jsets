{
 "cells": [
  {
   "cell_type": "code",
   "execution_count": null,
   "metadata": {
    "collapsed": false
   },
   "outputs": [
    {
     "name": "stderr",
     "output_type": "stream",
     "text": [
      "INFO: Precompiling module Gadfly...\n",
      "INFO: Recompiling stale cache file C:\\Users\\Hawke\\.julia\\lib\\v0.4\\Colors.ji for module Colors.\n",
      "INFO: Recompiling stale cache file C:\\Users\\Hawke\\.julia\\lib\\v0.4\\FixedPointNumbers.ji for module FixedPointNumbers.\n",
      "INFO: Recompiling stale cache file C:\\Users\\Hawke\\.julia\\lib\\v0.4\\ColorTypes.ji for module ColorTypes.\n",
      "INFO: Recompiling stale cache file C:\\Users\\Hawke\\.julia\\lib\\v0.4\\Reexport.ji for module Reexport.\n",
      "INFO: Recompiling stale cache file C:\\Users\\Hawke\\.julia\\lib\\v0.4\\DataStructures.ji for module DataStructures.\n"
     ]
    }
   ],
   "source": [
    "using Gadfly"
   ]
  },
  {
   "cell_type": "code",
   "execution_count": null,
   "metadata": {
    "collapsed": true
   },
   "outputs": [],
   "source": [
    "using cme257jsets"
   ]
  },
  {
   "cell_type": "code",
   "execution_count": null,
   "metadata": {
    "collapsed": false
   },
   "outputs": [],
   "source": [
    "# Test of module\n",
    "function jsets{T<:Real}(R::Function, x::Array{T}, y::Array{T}, n_iter::Int64 = 100, escape_tol::Int64 = 10000)\n",
    "    A = zeros(length(x), length(y))\n",
    "    for i in 1:length(x)\n",
    "        for j in 1:length(y)\n",
    "            z = x[i] + im*y[j]\n",
    "            for k in 1:n_iter\n",
    "                z = R(z)\n",
    "                if abs(z) > escape_tol # diverged\n",
    "                    A[i,j] = k\n",
    "                    break\n",
    "                end\n",
    "            end\n",
    "            if A[i,j] == 0 # didn't diverge\n",
    "                A[i,j] = escape_tol + 1\n",
    "            end\n",
    "        end\n",
    "    end\n",
    "    \n",
    "    return Array{Int64}(A)\n",
    "end"
   ]
  },
  {
   "cell_type": "code",
   "execution_count": null,
   "metadata": {
    "collapsed": false,
    "scrolled": true
   },
   "outputs": [],
   "source": [
    "R(x) = x^2-0.8+0.156im\n",
    "x = collect(linspace(-2,2,200))\n",
    "y = collect(linspace(-2,2,200))\n",
    "A = jsets(R, x, y, 5000, 10000)\n",
    "p = spy(A,Coord.Cartesian(aspect_ratio=1))"
   ]
  },
  {
   "cell_type": "code",
   "execution_count": null,
   "metadata": {
    "collapsed": false
   },
   "outputs": [],
   "source": [
    "R(x) = x^2+0.285+0.01im\n",
    "x = collect(linspace(-2,2,200))\n",
    "y = collect(linspace(-2,2,200))\n",
    "A = jsets(R, x, y, 1000, 10000)\n",
    "p = spy(A,Coord.Cartesian(aspect_ratio=1))"
   ]
  },
  {
   "cell_type": "code",
   "execution_count": null,
   "metadata": {
    "collapsed": false
   },
   "outputs": [],
   "source": [
    "R(x) = x^2-0.4+0.6im\n",
    "x = collect(linspace(-1.5,1.5,200))\n",
    "y = collect(linspace(-1.5,1.5,200))\n",
    "A = jsets(R, x, y, 1000, 10000)\n",
    "p = spy(A,Coord.Cartesian(aspect_ratio=1))"
   ]
  },
  {
   "cell_type": "code",
   "execution_count": null,
   "metadata": {
    "collapsed": true
   },
   "outputs": [],
   "source": []
  }
 ],
 "metadata": {
  "kernelspec": {
   "display_name": "Julia 0.4.0",
   "language": "julia",
   "name": "julia-0.4"
  },
  "language_info": {
   "file_extension": ".jl",
   "mimetype": "application/julia",
   "name": "julia",
   "version": "0.4.0"
  }
 },
 "nbformat": 4,
 "nbformat_minor": 0
}
